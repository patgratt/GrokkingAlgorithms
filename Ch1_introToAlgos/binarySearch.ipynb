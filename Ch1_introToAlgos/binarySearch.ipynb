{
 "cells": [
  {
   "cell_type": "markdown",
   "metadata": {},
   "source": [
    "<h1> Binary Search"
   ]
  },
  {
   "cell_type": "markdown",
   "metadata": {},
   "source": [
    "- Goal is to find a target number in  a given array, in this case in range(1,100)\n",
    "\n",
    "- We guess the middle number, check if it's too high or low, this eliminates half the pool, repeat until number is found\n",
    "\n",
    "- Time complexity = O($log(n)$) \n",
    "    - Much better than simple search (stupid search), which is just guessing one by one sequentially, O(n)"
   ]
  },
  {
   "cell_type": "code",
   "execution_count": 4,
   "metadata": {},
   "outputs": [
    {
     "name": "stdout",
     "output_type": "stream",
     "text": [
      "[0, 1, 2, 3, 4, 5, 6, 7, 8, 9, 10, 11, 12, 13, 14, 15, 16, 17, 18, 19, 20, 21, 22, 23, 24, 25, 26, 27, 28, 29, 30, 31, 32, 33, 34, 35, 36, 37, 38, 39, 40, 41, 42, 43, 44, 45, 46, 47, 48, 49, 50, 51, 52, 53, 54, 55, 56, 57, 58, 59, 60, 61, 62, 63, 64, 65, 66, 67, 68, 69, 70, 71, 72, 73, 74, 75, 76, 77, 78, 79, 80, 81, 82, 83, 84, 85, 86, 87, 88, 89, 90, 91, 92, 93, 94, 95, 96, 97, 98, 99]\n"
     ]
    }
   ],
   "source": [
    "ex_list = list(range(100))\n",
    "print(ex_list)"
   ]
  },
  {
   "cell_type": "markdown",
   "metadata": {},
   "source": [
    "n = 100 <br>\n",
    "low = 0 <br>\n",
    "high = len(list) - 1 = 99"
   ]
  },
  {
   "cell_type": "code",
   "execution_count": 2,
   "metadata": {},
   "outputs": [],
   "source": [
    "def binary_search(list, item):\n",
    "\n",
    "     # low and high keep track of which part of list we're searching in \n",
    "    low = 0\n",
    "    high = len(list) - 1\n",
    "   \n",
    "    # while we haven't yet narrowed it down to one element\n",
    "    while low <= high:\n",
    "    \n",
    "        # get the midpoint\n",
    "        mid = (low + high) // 2\n",
    "        \n",
    "        # set guess equal to the midpoint of the array\n",
    "        guess = list[mid]\n",
    "        \n",
    "        # correct guess\n",
    "        if guess == item:\n",
    "            return mid\n",
    "\n",
    "        # if guess is too high, we keep the low and set the new high to the mid (minus one bc we're using it as an index position)\n",
    "        if guess > item:\n",
    "            high = mid - 1\n",
    "            \n",
    "        # if guess is too low, we keep the high and set the new low to the mid (plus one bc we're using it as an index position)\n",
    "        else:\n",
    "            low = mid + 1\n",
    "\n",
    "    # None would occur if what we're looking for isn't present in the list\n",
    "    return None    "
   ]
  },
  {
   "cell_type": "markdown",
   "metadata": {},
   "source": [
    "Lol there's an error in the first code written in the book, it has it listed as mid = (low + high), I spent like 5 min racking my brain as to how this could be possible but googled it and its actually an error https://adit.io/errata.html"
   ]
  },
  {
   "cell_type": "code",
   "execution_count": 9,
   "metadata": {},
   "outputs": [
    {
     "data": {
      "text/plain": [
       "88"
      ]
     },
     "execution_count": 9,
     "metadata": {},
     "output_type": "execute_result"
    }
   ],
   "source": [
    "binary_search(ex_list, 88)"
   ]
  }
 ],
 "metadata": {
  "interpreter": {
   "hash": "8166b1ab3185ff99fa21bfc2c5e62d1136fc953818f660c27062f7a49bb0ace1"
  },
  "kernelspec": {
   "display_name": "Python 3.9.7 ('base')",
   "language": "python",
   "name": "python3"
  },
  "language_info": {
   "codemirror_mode": {
    "name": "ipython",
    "version": 3
   },
   "file_extension": ".py",
   "mimetype": "text/x-python",
   "name": "python",
   "nbconvert_exporter": "python",
   "pygments_lexer": "ipython3",
   "version": "3.9.7"
  },
  "orig_nbformat": 4
 },
 "nbformat": 4,
 "nbformat_minor": 2
}
