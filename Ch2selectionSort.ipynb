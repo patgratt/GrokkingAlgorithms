{
 "cells": [
  {
   "cell_type": "markdown",
   "metadata": {},
   "source": [
    "<h1> Selection Sort"
   ]
  },
  {
   "cell_type": "markdown",
   "metadata": {},
   "source": [
    "- Goal is to sort a list numerically\n",
    "\n",
    "- Go through the list to find the max, add that too a new list, then repeat n times \n",
    "\n",
    "- Time complexity = O($n^2$)"
   ]
  },
  {
   "cell_type": "code",
   "execution_count": 55,
   "metadata": {},
   "outputs": [
    {
     "name": "stdout",
     "output_type": "stream",
     "text": [
      "[91, 45, 98, 49, 4, 59, 23, 29, 40, 34, 49, 75, 23, 19, 45, 10, 61, 94, 64, 51, 71, 18, 95, 80, 65, 23, 98, 35, 38, 79, 20, 3, 31, 77, 53, 36, 11, 18, 46, 12, 32, 67, 41, 19, 93, 67, 29, 22, 36, 36, 85, 89, 34, 7, 97, 56, 5, 86, 82, 87, 10, 76, 7, 79, 28, 40, 72, 92, 43, 40, 73, 10, 79, 28, 65, 66, 65, 37, 36, 59, 28, 15, 51, 83, 86, 51, 75, 66, 76, 93, 44, 14, 41, 72, 20, 87, 76, 79, 16, 99]\n"
     ]
    }
   ],
   "source": [
    "# test case\n",
    "import random\n",
    "ex_arr = [random.randint(1,100) for _ in range(100)]\n",
    "print(ex_arr)"
   ]
  },
  {
   "cell_type": "markdown",
   "metadata": {},
   "source": [
    "This example (comprised of two functions) sorts an array from smallest to largest"
   ]
  },
  {
   "cell_type": "code",
   "execution_count": 44,
   "metadata": {},
   "outputs": [
    {
     "data": {
      "text/plain": [
       "28"
      ]
     },
     "execution_count": 44,
     "metadata": {},
     "output_type": "execute_result"
    }
   ],
   "source": [
    "# function to get the index position of the smallest values\n",
    "\n",
    "def findSmallest(arr):\n",
    "    # store smallest value\n",
    "    smallest = arr[0]\n",
    "    # store index of smallest value (for now set to 0)\n",
    "    smallest_index = 0\n",
    "    # loops through the array until it finds a value that is less than the current smallest (initially at index=0, then makes that new smallest\n",
    "    # and records the index position. When it finds the actual smallest it outputs the index.\n",
    "    for i in range(1,len(arr)):\n",
    "        if arr[i] < smallest:\n",
    "            smallest = arr[i]\n",
    "            smallest_index = i\n",
    "    return smallest_index\n",
    "\n",
    "findSmallest(ex_arr)"
   ]
  },
  {
   "cell_type": "code",
   "execution_count": 48,
   "metadata": {},
   "outputs": [
    {
     "name": "stdout",
     "output_type": "stream",
     "text": [
      "1\n",
      "1\n"
     ]
    }
   ],
   "source": [
    "#check if it worked\n",
    "#of course we could have just done the min function or something but I guess this is the logic behind that\n",
    "print(ex_arr[findSmallest(ex_arr)])\n",
    "print(min(ex_arr))"
   ]
  },
  {
   "cell_type": "code",
   "execution_count": 56,
   "metadata": {},
   "outputs": [
    {
     "name": "stdout",
     "output_type": "stream",
     "text": [
      "[3, 4, 5, 7, 7, 10, 10, 10, 11, 12, 14, 15, 16, 18, 18, 19, 19, 20, 20, 22, 23, 23, 23, 28, 28, 28, 29, 29, 31, 32, 34, 34, 35, 36, 36, 36, 36, 37, 38, 40, 40, 40, 41, 41, 43, 44, 45, 45, 46, 49, 49, 51, 51, 51, 53, 56, 59, 59, 61, 64, 65, 65, 65, 66, 66, 67, 67, 71, 72, 72, 73, 75, 75, 76, 76, 76, 77, 79, 79, 79, 79, 80, 82, 83, 85, 86, 86, 87, 87, 89, 91, 92, 93, 93, 94, 95, 97, 98, 98, 99]\n"
     ]
    }
   ],
   "source": [
    "# now use this function to write selection sort\n",
    "def selectionSort(arr):\n",
    "    newArr = []\n",
    "    #loop through starting with the smallest number and adding it to the start of the new list\n",
    "    for i in range(len(arr)):\n",
    "        smallest = findSmallest(arr)\n",
    "        # the list.pop() method takes the index position of the list as the argument, removes the element and returns it\n",
    "        newArr.append(arr.pop(smallest))\n",
    "    return newArr\n",
    "\n",
    "print(selectionSort(ex_arr))"
   ]
  },
  {
   "cell_type": "code",
   "execution_count": 57,
   "metadata": {},
   "outputs": [],
   "source": [
    "#could have just used .sort()"
   ]
  }
 ],
 "metadata": {
  "interpreter": {
   "hash": "8166b1ab3185ff99fa21bfc2c5e62d1136fc953818f660c27062f7a49bb0ace1"
  },
  "kernelspec": {
   "display_name": "Python 3.9.7 ('base')",
   "language": "python",
   "name": "python3"
  },
  "language_info": {
   "codemirror_mode": {
    "name": "ipython",
    "version": 3
   },
   "file_extension": ".py",
   "mimetype": "text/x-python",
   "name": "python",
   "nbconvert_exporter": "python",
   "pygments_lexer": "ipython3",
   "version": "3.9.7"
  },
  "orig_nbformat": 4
 },
 "nbformat": 4,
 "nbformat_minor": 2
}
