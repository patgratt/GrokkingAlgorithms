{
 "cells": [
  {
   "cell_type": "markdown",
   "metadata": {},
   "source": [
    "<h1> Quicksort / D&C"
   ]
  },
  {
   "cell_type": "markdown",
   "metadata": {},
   "source": [
    "- Quicksort is a type of divide and conquer algorithm\n",
    "\n",
    "- Steps to D&C:\n",
    "    1. figure out the base case (simplest possible case)\n",
    "    2. divide or decrease the problem until it becomes the base case\n"
   ]
  },
  {
   "cell_type": "markdown",
   "metadata": {},
   "source": [
    "<h3>Quicksort"
   ]
  },
  {
   "cell_type": "markdown",
   "metadata": {},
   "source": [
    "- Choose random element as pivot, use recursion to sort based on that pivot\n",
    "\n",
    "- Average Time Comlexity: O(n * $log(n)$)\n",
    "    - Only applies if you are choosing a random element as the pivot"
   ]
  },
  {
   "cell_type": "code",
   "execution_count": 1,
   "metadata": {},
   "outputs": [],
   "source": [
    "def quicksort(array):\n",
    "    # base case: arrays with 1 or 0 elements are already sorted\n",
    "    if len(array) < 2:\n",
    "        return array\n",
    "    # recursive case:\n",
    "    else:\n",
    "        pivot = array[0]\n",
    "        # creates sub-array of all the elements less than the pivot\n",
    "        less = [i for i in array[1:] if i <= pivot]\n",
    "        # creates sub-array of all the elements greater than the pivot\n",
    "        greater = [i for i in array[1:] if i > pivot]\n",
    "        return quicksort(less) + [pivot] + quicksort(greater)"
   ]
  },
  {
   "cell_type": "code",
   "execution_count": 2,
   "metadata": {},
   "outputs": [
    {
     "name": "stdout",
     "output_type": "stream",
     "text": [
      "[93, 6, 41, 49, 31, 29, 37, 13, 5, 36, 96, 2, 39, 64, 64, 94, 58, 15, 36, 5, 57, 98, 39, 91, 83, 29, 41, 62, 50, 28, 21, 74, 44, 72, 53, 21, 69, 49, 82, 91, 97, 34, 59, 84, 39, 21, 60, 9, 76, 5, 18, 25, 84, 38, 40, 42, 100, 4, 94, 54, 47, 34, 80, 25, 63, 97, 78, 64, 57, 9, 38, 83, 5, 51, 68, 11, 60, 85, 54, 58, 73, 59, 54, 20, 76, 9, 25, 4, 50, 62, 82, 7, 44, 15, 6, 69, 10, 47, 20, 64]\n"
     ]
    }
   ],
   "source": [
    "# test case\n",
    "import random\n",
    "ex_arr = [random.randint(1,100) for _ in range(100)]\n",
    "print(ex_arr)"
   ]
  },
  {
   "cell_type": "code",
   "execution_count": 5,
   "metadata": {},
   "outputs": [
    {
     "name": "stdout",
     "output_type": "stream",
     "text": [
      "[2, 4, 4, 5, 5, 5, 5, 6, 6, 7, 9, 9, 9, 10, 11, 13, 15, 15, 18, 20, 20, 21, 21, 21, 25, 25, 25, 28, 29, 29, 31, 34, 34, 36, 36, 37, 38, 38, 39, 39, 39, 40, 41, 41, 42, 44, 44, 47, 47, 49, 49, 50, 50, 51, 53, 54, 54, 54, 57, 57, 58, 58, 59, 59, 60, 60, 62, 62, 63, 64, 64, 64, 64, 68, 69, 69, 72, 73, 74, 76, 76, 78, 80, 82, 82, 83, 83, 84, 84, 85, 91, 91, 93, 94, 94, 96, 97, 97, 98, 100]\n"
     ]
    }
   ],
   "source": [
    "print(quicksort(ex_arr))"
   ]
  }
 ],
 "metadata": {
  "interpreter": {
   "hash": "8166b1ab3185ff99fa21bfc2c5e62d1136fc953818f660c27062f7a49bb0ace1"
  },
  "kernelspec": {
   "display_name": "Python 3.9.7 ('base')",
   "language": "python",
   "name": "python3"
  },
  "language_info": {
   "codemirror_mode": {
    "name": "ipython",
    "version": 3
   },
   "file_extension": ".py",
   "mimetype": "text/x-python",
   "name": "python",
   "nbconvert_exporter": "python",
   "pygments_lexer": "ipython3",
   "version": "3.9.7"
  },
  "orig_nbformat": 4
 },
 "nbformat": 4,
 "nbformat_minor": 2
}
