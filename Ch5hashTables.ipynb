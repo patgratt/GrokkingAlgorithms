{
 "cells": [
  {
   "cell_type": "markdown",
   "metadata": {},
   "source": [
    "- Essentially, just a dictionary (there are some technicalities)\n",
    "\n",
    "- You input key (can be any type of data) into the hashtable, it runs the key through a hash function and it outputs the value associated with that key\n",
    "\n",
    "- Performance:\n",
    "    - Average: O(1)\n",
    "        - Constant time\n",
    "    - Worst case: O(n)\n",
    "        - Linear time, same as simple search\n",
    "        - This would only happen if you mapped all values to the same key, would create a linked list that you would have to look through sequentially"
   ]
  }
 ],
 "metadata": {
  "language_info": {
   "name": "python"
  },
  "orig_nbformat": 4
 },
 "nbformat": 4,
 "nbformat_minor": 2
}
