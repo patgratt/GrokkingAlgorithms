{
 "cells": [
  {
   "cell_type": "markdown",
   "metadata": {},
   "source": [
    "<h2> Graphs\n",
    "\n",
    "\n",
    "\n"
   ]
  },
  {
   "cell_type": "markdown",
   "metadata": {},
   "source": [
    "![graph](images/graph.png)"
   ]
  },
  {
   "cell_type": "code",
   "execution_count": 4,
   "metadata": {},
   "outputs": [],
   "source": [
    "#code representation of above graph\n",
    "graph = {}\n",
    "graph['you'] = ['alice', 'bob', 'claire'] \n",
    "graph['bob'] = ['anuj', 'peggy'] \n",
    "graph['alice'] = ['peggy'] \n",
    "graph['claire'] = ['thom', 'jonny'] \n",
    "graph['anuj'] = []\n",
    "graph['peggy'] = []\n",
    "graph['thom'] = []\n",
    "graph['jonny'] = []"
   ]
  },
  {
   "cell_type": "markdown",
   "metadata": {},
   "source": [
    "Implementing Breadth First Search\n",
    "\n",
    "- deque() -> doubly ended queue\n",
    "- better than list in python when we want to quickly append and pop elements from the ends of the container\n",
    "    - O(1) time complexity when doing append or pop vs normal list which is O(n)"
   ]
  },
  {
   "cell_type": "code",
   "execution_count": 6,
   "metadata": {},
   "outputs": [],
   "source": [
    "# check if someone is a mango seller, for this example if their name ends in m they are a mango seller\n",
    "# returns True if they are, False if they are not\n",
    "def person_is_seller(name):\n",
    "    return name[-1] == 'm'"
   ]
  },
  {
   "cell_type": "code",
   "execution_count": 9,
   "metadata": {},
   "outputs": [],
   "source": [
    "from collections import deque\n",
    "\n",
    "def search(name):\n",
    "    # create new queue\n",
    "    search_queue = deque()\n",
    "    search_queue += graph[name]\n",
    "    # while the queue isn't empty\n",
    "    while search_queue:\n",
    "        # grab the first person from front of queue\n",
    "        person = search_queue.popleft()\n",
    "        # check if the person is a mango seller\n",
    "        if person_is_seller(person):\n",
    "            # if so print them out\n",
    "            print(person + ' is a mango seller')\n",
    "            return True\n",
    "            # if not continue loop\n",
    "        else:\n",
    "            search_queue += graph[person]\n",
    "    # this occurs if there is no mango seller\n",
    "    return False"
   ]
  },
  {
   "cell_type": "code",
   "execution_count": 10,
   "metadata": {},
   "outputs": [
    {
     "name": "stdout",
     "output_type": "stream",
     "text": [
      "thom is a mango seller\n"
     ]
    },
    {
     "data": {
      "text/plain": [
       "True"
      ]
     },
     "execution_count": 10,
     "metadata": {},
     "output_type": "execute_result"
    }
   ],
   "source": [
    "search('you')"
   ]
  }
 ],
 "metadata": {
  "interpreter": {
   "hash": "8166b1ab3185ff99fa21bfc2c5e62d1136fc953818f660c27062f7a49bb0ace1"
  },
  "kernelspec": {
   "display_name": "Python 3.9.7 ('base')",
   "language": "python",
   "name": "python3"
  },
  "language_info": {
   "codemirror_mode": {
    "name": "ipython",
    "version": 3
   },
   "file_extension": ".py",
   "mimetype": "text/x-python",
   "name": "python",
   "nbconvert_exporter": "python",
   "pygments_lexer": "ipython3",
   "version": "3.9.7"
  },
  "orig_nbformat": 4
 },
 "nbformat": 4,
 "nbformat_minor": 2
}
